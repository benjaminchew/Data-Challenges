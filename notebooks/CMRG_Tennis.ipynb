{
 "cells": [
  {
   "cell_type": "markdown",
   "metadata": {},
   "source": [
    "## Import Libraries"
   ]
  },
  {
   "cell_type": "code",
   "execution_count": 70,
   "metadata": {},
   "outputs": [],
   "source": [
    "# Data-related\n",
    "import numpy as np\n",
    "import pandas as pd\n",
    "import requests, zipfile, io, seaborn\n",
    "from tqdm import tqdm \n",
    "\n",
    "# Machine Learning\n",
    "from sklearn import svm\n",
    "from sklearn.preprocessing import scale\n",
    "from sklearn.linear_model import LogisticRegression\n",
    "from sklearn.model_selection import cross_val_score, train_test_split"
   ]
  },
  {
   "cell_type": "markdown",
   "metadata": {},
   "source": [
    "## Download Data"
   ]
  },
  {
   "cell_type": "markdown",
   "metadata": {},
   "source": [
    "##### Data from the years specified below will be downloaded and stored as a Pandas DataFrame."
   ]
  },
  {
   "cell_type": "code",
   "execution_count": 22,
   "metadata": {},
   "outputs": [
    {
     "name": "stderr",
     "output_type": "stream",
     "text": [
      "100%|██████████| 6/6 [00:04<00:00,  1.21it/s]\n"
     ]
    }
   ],
   "source": [
    "dfs = []\n",
    "\n",
    "for year in tqdm(range(2013, 2019)):\n",
    "    r = requests.get('http://www.tennis-data.co.uk/{0}/{0}.zip'.format(year))\n",
    "    z = zipfile.ZipFile(io.BytesIO(r.content))\n",
    "    df = pd.read_excel(z.open('{0}.xlsx'.format(year)))\n",
    "    df['year'] = year\n",
    "    dfs.append(df)\n",
    "\n",
    "df = pd.concat(dfs, sort=True).reset_index(drop=True)"
   ]
  },
  {
   "cell_type": "code",
   "execution_count": 23,
   "metadata": {},
   "outputs": [
    {
     "data": {
      "text/html": [
       "<div>\n",
       "<style scoped>\n",
       "    .dataframe tbody tr th:only-of-type {\n",
       "        vertical-align: middle;\n",
       "    }\n",
       "\n",
       "    .dataframe tbody tr th {\n",
       "        vertical-align: top;\n",
       "    }\n",
       "\n",
       "    .dataframe thead th {\n",
       "        text-align: right;\n",
       "    }\n",
       "</style>\n",
       "<table border=\"1\" class=\"dataframe\">\n",
       "  <thead>\n",
       "    <tr style=\"text-align: right;\">\n",
       "      <th></th>\n",
       "      <th>ATP</th>\n",
       "      <th>AvgL</th>\n",
       "      <th>AvgW</th>\n",
       "      <th>B365L</th>\n",
       "      <th>B365W</th>\n",
       "      <th>Best of</th>\n",
       "      <th>Comment</th>\n",
       "      <th>Court</th>\n",
       "      <th>Date</th>\n",
       "      <th>EXL</th>\n",
       "      <th>...</th>\n",
       "      <th>W1</th>\n",
       "      <th>W2</th>\n",
       "      <th>W3</th>\n",
       "      <th>W4</th>\n",
       "      <th>W5</th>\n",
       "      <th>WPts</th>\n",
       "      <th>WRank</th>\n",
       "      <th>Winner</th>\n",
       "      <th>Wsets</th>\n",
       "      <th>year</th>\n",
       "    </tr>\n",
       "  </thead>\n",
       "  <tbody>\n",
       "    <tr>\n",
       "      <th>0</th>\n",
       "      <td>1</td>\n",
       "      <td>2.78</td>\n",
       "      <td>1.42</td>\n",
       "      <td>3.00</td>\n",
       "      <td>1.36</td>\n",
       "      <td>3</td>\n",
       "      <td>Completed</td>\n",
       "      <td>Outdoor</td>\n",
       "      <td>2012-12-31</td>\n",
       "      <td>2.65</td>\n",
       "      <td>...</td>\n",
       "      <td>6.0</td>\n",
       "      <td>6.0</td>\n",
       "      <td>NaN</td>\n",
       "      <td>NaN</td>\n",
       "      <td>NaN</td>\n",
       "      <td>1215.0</td>\n",
       "      <td>28.0</td>\n",
       "      <td>Mayer F.</td>\n",
       "      <td>2.0</td>\n",
       "      <td>2013</td>\n",
       "    </tr>\n",
       "    <tr>\n",
       "      <th>1</th>\n",
       "      <td>1</td>\n",
       "      <td>2.05</td>\n",
       "      <td>1.73</td>\n",
       "      <td>2.20</td>\n",
       "      <td>1.61</td>\n",
       "      <td>3</td>\n",
       "      <td>Completed</td>\n",
       "      <td>Outdoor</td>\n",
       "      <td>2012-12-31</td>\n",
       "      <td>2.00</td>\n",
       "      <td>...</td>\n",
       "      <td>6.0</td>\n",
       "      <td>2.0</td>\n",
       "      <td>6.0</td>\n",
       "      <td>NaN</td>\n",
       "      <td>NaN</td>\n",
       "      <td>927.0</td>\n",
       "      <td>41.0</td>\n",
       "      <td>Nieminen J.</td>\n",
       "      <td>2.0</td>\n",
       "      <td>2013</td>\n",
       "    </tr>\n",
       "    <tr>\n",
       "      <th>2</th>\n",
       "      <td>1</td>\n",
       "      <td>3.58</td>\n",
       "      <td>1.28</td>\n",
       "      <td>3.75</td>\n",
       "      <td>1.25</td>\n",
       "      <td>3</td>\n",
       "      <td>Completed</td>\n",
       "      <td>Outdoor</td>\n",
       "      <td>2012-12-31</td>\n",
       "      <td>3.75</td>\n",
       "      <td>...</td>\n",
       "      <td>7.0</td>\n",
       "      <td>6.0</td>\n",
       "      <td>NaN</td>\n",
       "      <td>NaN</td>\n",
       "      <td>NaN</td>\n",
       "      <td>1830.0</td>\n",
       "      <td>19.0</td>\n",
       "      <td>Nishikori K.</td>\n",
       "      <td>2.0</td>\n",
       "      <td>2013</td>\n",
       "    </tr>\n",
       "    <tr>\n",
       "      <th>3</th>\n",
       "      <td>1</td>\n",
       "      <td>7.76</td>\n",
       "      <td>1.08</td>\n",
       "      <td>9.00</td>\n",
       "      <td>1.07</td>\n",
       "      <td>3</td>\n",
       "      <td>Completed</td>\n",
       "      <td>Outdoor</td>\n",
       "      <td>2012-12-31</td>\n",
       "      <td>8.00</td>\n",
       "      <td>...</td>\n",
       "      <td>6.0</td>\n",
       "      <td>6.0</td>\n",
       "      <td>NaN</td>\n",
       "      <td>NaN</td>\n",
       "      <td>NaN</td>\n",
       "      <td>1070.0</td>\n",
       "      <td>36.0</td>\n",
       "      <td>Baghdatis M.</td>\n",
       "      <td>2.0</td>\n",
       "      <td>2013</td>\n",
       "    </tr>\n",
       "    <tr>\n",
       "      <th>4</th>\n",
       "      <td>1</td>\n",
       "      <td>1.85</td>\n",
       "      <td>1.88</td>\n",
       "      <td>1.80</td>\n",
       "      <td>1.90</td>\n",
       "      <td>3</td>\n",
       "      <td>Completed</td>\n",
       "      <td>Outdoor</td>\n",
       "      <td>2013-01-01</td>\n",
       "      <td>1.87</td>\n",
       "      <td>...</td>\n",
       "      <td>6.0</td>\n",
       "      <td>6.0</td>\n",
       "      <td>NaN</td>\n",
       "      <td>NaN</td>\n",
       "      <td>NaN</td>\n",
       "      <td>897.0</td>\n",
       "      <td>43.0</td>\n",
       "      <td>Istomin D.</td>\n",
       "      <td>2.0</td>\n",
       "      <td>2013</td>\n",
       "    </tr>\n",
       "  </tbody>\n",
       "</table>\n",
       "<p>5 rows × 43 columns</p>\n",
       "</div>"
      ],
      "text/plain": [
       "   ATP  AvgL  AvgW  B365L  B365W  Best of    Comment    Court       Date  \\\n",
       "0    1  2.78  1.42   3.00   1.36        3  Completed  Outdoor 2012-12-31   \n",
       "1    1  2.05  1.73   2.20   1.61        3  Completed  Outdoor 2012-12-31   \n",
       "2    1  3.58  1.28   3.75   1.25        3  Completed  Outdoor 2012-12-31   \n",
       "3    1  7.76  1.08   9.00   1.07        3  Completed  Outdoor 2012-12-31   \n",
       "4    1  1.85  1.88   1.80   1.90        3  Completed  Outdoor 2013-01-01   \n",
       "\n",
       "    EXL  ...   W1   W2   W3  W4  W5    WPts  WRank        Winner  Wsets  year  \n",
       "0  2.65  ...  6.0  6.0  NaN NaN NaN  1215.0   28.0      Mayer F.    2.0  2013  \n",
       "1  2.00  ...  6.0  2.0  6.0 NaN NaN   927.0   41.0   Nieminen J.    2.0  2013  \n",
       "2  3.75  ...  7.0  6.0  NaN NaN NaN  1830.0   19.0  Nishikori K.    2.0  2013  \n",
       "3  8.00  ...  6.0  6.0  NaN NaN NaN  1070.0   36.0  Baghdatis M.    2.0  2013  \n",
       "4  1.87  ...  6.0  6.0  NaN NaN NaN   897.0   43.0    Istomin D.    2.0  2013  \n",
       "\n",
       "[5 rows x 43 columns]"
      ]
     },
     "execution_count": 23,
     "metadata": {},
     "output_type": "execute_result"
    }
   ],
   "source": [
    "df.head()"
   ]
  },
  {
   "cell_type": "code",
   "execution_count": 24,
   "metadata": {},
   "outputs": [
    {
     "data": {
      "text/plain": [
       "Index(['ATP', 'AvgL', 'AvgW', 'B365L', 'B365W', 'Best of', 'Comment', 'Court',\n",
       "       'Date', 'EXL', 'EXW', 'L1', 'L2', 'L3', 'L4', 'L5', 'LBL', 'LBW',\n",
       "       'LPts', 'LRank', 'Location', 'Loser', 'Lsets', 'MaxL', 'MaxW', 'PSL',\n",
       "       'PSW', 'Round', 'SJL', 'SJW', 'Series', 'Surface', 'Tournament', 'W1',\n",
       "       'W2', 'W3', 'W4', 'W5', 'WPts', 'WRank', 'Winner', 'Wsets', 'year'],\n",
       "      dtype='object')"
      ]
     },
     "execution_count": 24,
     "metadata": {},
     "output_type": "execute_result"
    }
   ],
   "source": [
    "df.columns"
   ]
  },
  {
   "cell_type": "markdown",
   "metadata": {},
   "source": [
    "## Code Variables and Predictors"
   ]
  },
  {
   "cell_type": "markdown",
   "metadata": {},
   "source": [
    "##### We first need to code the outcomes of each match. For a logistic regression, one method would be to set it as 1 if Player A wins and 0 if Player A loses. Since the winners and losers are in separate columns, we should assign them as Player A in approximately equal numbers.\n",
    "\n",
    "##### Eventually, what we want to do is maximize the return on investment (ROI) rather than simply predict the outcome of matches. Furthermore, prediction strategies should probably use a sliding window rather than the entire history of matches."
   ]
  },
  {
   "cell_type": "code",
   "execution_count": 67,
   "metadata": {},
   "outputs": [
    {
     "name": "stderr",
     "output_type": "stream",
     "text": [
      "15757it [01:30, 173.99it/s]\n"
     ]
    },
    {
     "name": "stdout",
     "output_type": "stream",
     "text": [
      "[Count] Elapsed: 90.57 seconds\n"
     ]
    }
   ],
   "source": [
    "# Find a more ELEGANT way to do this\n",
    "\n",
    "for index, match in tqdm(df.iterrows()) :\n",
    "    if index in range(0, len(df), 2) :\n",
    "        df.loc[index,'Player A'] = match['Winner']\n",
    "        df.loc[index,'Player B'] = match['Loser']\n",
    "        df.loc[index,'Outcome'] = 1\n",
    "        df.loc[index,'B365 Diff'] = match['B365W'] - match['B365L']\n",
    "        df.loc[index,'Rank Diff'] = match['WRank'] - match['LRank']\n",
    "        df.loc[index,'Game Diff 2SETS'] = match[['W1','W2']].sum() - match[['L1','L2']].sum()\n",
    "    elif index in range(1, len(df), 2):\n",
    "        df.loc[index,'Player A'] = match['Loser']\n",
    "        df.loc[index,'Player B'] = match['Winner']\n",
    "        df.loc[index,'Outcome'] = 0\n",
    "        df.loc[index,'B365 Diff'] = match['B365L'] - match['B365W']\n",
    "        df.loc[index,'Rank Diff'] = match['LRank'] - match['WRank']\n",
    "        df.loc[index,'Game Diff 2SETS'] = match[['L1','L2']].sum() - match[['W1','W2']].sum()\n",
    "\n",
    "df = df.dropna(subset=['Rank Diff','B365 Diff','Game Diff 2SETS'])"
   ]
  },
  {
   "cell_type": "markdown",
   "metadata": {},
   "source": [
    "## Machine Learning"
   ]
  },
  {
   "cell_type": "markdown",
   "metadata": {},
   "source": [
    "##### Let's start with Logistic Regression."
   ]
  },
  {
   "cell_type": "code",
   "execution_count": 99,
   "metadata": {},
   "outputs": [
    {
     "name": "stderr",
     "output_type": "stream",
     "text": [
      "C:\\Users\\bchew\\AppData\\Local\\Continuum\\Anaconda3\\envs\\CMRG\\lib\\site-packages\\sklearn\\utils\\validation.py:595: DataConversionWarning: Data with input dtype object was converted to float64 by the scale function.\n",
      "  warnings.warn(msg, DataConversionWarning)\n"
     ]
    },
    {
     "name": "stdout",
     "output_type": "stream",
     "text": [
      "Accuracy using Betting Odds: 0.696\n",
      "Mean Accuracy: 0.661\n"
     ]
    }
   ],
   "source": [
    "clf = LogisticRegression(solver='lbfgs') # Silence Future Warning\n",
    "\n",
    "XB = np.array(df['B365 Diff']).reshape(-1,1)\n",
    "XB = scale(XB)\n",
    "yB = df['Outcome']\n",
    "scoresB = cross_val_score(clf,XB,yB,cv=5)\n",
    "\n",
    "print('Accuracy using Betting Odds: %.3f' % scoresB.mean())\n",
    "\n",
    "# 5-fold Cross Validated Scores\n",
    "# X = df[['Rank Diff','B365 Diff','Game Diff 2SETS']]\n",
    "X = df[['Rank Diff','B365 Diff']]\n",
    "X = scale(X)\n",
    "y = df['Outcome']\n",
    "scores = cross_val_score(clf,X,y,cv=5)\n",
    "print('Mean Accuracy: %.3f' % scores.mean())"
   ]
  },
  {
   "cell_type": "markdown",
   "metadata": {},
   "source": [
    "##### Support Vector Machine."
   ]
  },
  {
   "cell_type": "code",
   "execution_count": 88,
   "metadata": {},
   "outputs": [
    {
     "name": "stderr",
     "output_type": "stream",
     "text": [
      "C:\\Users\\bchew\\AppData\\Local\\Continuum\\Anaconda3\\envs\\CMRG\\lib\\site-packages\\ipykernel_launcher.py:2: DataConversionWarning: Data with input dtype float64, object were all converted to float64 by the scale function.\n",
      "  \n"
     ]
    },
    {
     "name": "stdout",
     "output_type": "stream",
     "text": [
      "Mean Accuracy: 0.842\n"
     ]
    }
   ],
   "source": [
    "clf = svm.SVC(kernel='linear', C=1)\n",
    "\n",
    "X = df[['Rank Diff','B365 Diff','Game Diff 2SETS']]\n",
    "X = scale(X)\n",
    "y = df['Outcome']\n",
    "\n",
    "# 5-fold Cross Validated Scores\n",
    "scores = cross_val_score(clf,X,y,cv=5)\n",
    "print('Mean Accuracy: %.3f' % scores.mean())"
   ]
  },
  {
   "cell_type": "code",
   "execution_count": null,
   "metadata": {},
   "outputs": [],
   "source": []
  }
 ],
 "metadata": {
  "kernelspec": {
   "display_name": "Python 3",
   "language": "python",
   "name": "python3"
  },
  "language_info": {
   "codemirror_mode": {
    "name": "ipython",
    "version": 3
   },
   "file_extension": ".py",
   "mimetype": "text/x-python",
   "name": "python",
   "nbconvert_exporter": "python",
   "pygments_lexer": "ipython3",
   "version": "3.7.2"
  }
 },
 "nbformat": 4,
 "nbformat_minor": 2
}
